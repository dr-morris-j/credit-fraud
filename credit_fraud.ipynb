{
  "nbformat": 4,
  "nbformat_minor": 0,
  "metadata": {
    "colab": {
      "provenance": []
    },
    "kernelspec": {
      "name": "python3",
      "display_name": "Python 3"
    },
    "language_info": {
      "name": "python"
    }
  },
  "cells": [
    {
      "cell_type": "code",
      "execution_count": 2,
      "metadata": {
        "id": "R50Cc89rCN7d"
      },
      "outputs": [],
      "source": [
        "import numpy as np\n",
        "import pandas as pd\n",
        "import matplotlib.pyplot as plt\n",
        "import seaborn as sns\n",
        "from matplotlib import gridspec\n",
        "\n",
        "from sklearn.model_selection import train_test_split\n",
        "from sklearn.ensemble import RandomForestClassifier\n",
        "from sklearn.metrics import classification_report, accuracy_score, precision_score, recall_score, f1_score, matthews_corrcoef, confusion_matrix\n"
      ]
    },
    {
      "cell_type": "code",
      "source": [
        "from google.colab import drive\n",
        "drive.mount('/content/gdrive', force_remount=True, timeout_ms=120000)\n"
      ],
      "metadata": {
        "id": "iBPyCmKXCO4Y"
      },
      "execution_count": null,
      "outputs": []
    },
    {
      "cell_type": "code",
      "source": [
        "%cd /content/gdrive/MyDrive/credit_fraud/\n",
        "%ls"
      ],
      "metadata": {
        "id": "HGH3rJ_FCRTG"
      },
      "execution_count": null,
      "outputs": []
    },
    {
      "cell_type": "code",
      "source": [
        "data = pd.read_csv('creditcard.csv')\n",
        "data.head()"
      ],
      "metadata": {
        "id": "4sa_B1mSCRmk"
      },
      "execution_count": null,
      "outputs": []
    },
    {
      "cell_type": "code",
      "source": [
        "print(data.shape)\n",
        "print(data.describe())"
      ],
      "metadata": {
        "id": "npeDBNkICcXP"
      },
      "execution_count": null,
      "outputs": []
    },
    {
      "cell_type": "code",
      "source": [
        "fraud = data[data['Class'] == 1]\n",
        "valid = data[data['Class'] == 0]\n",
        "outlier_fraction = len(fraud)/float(len(valid))\n",
        "print(outlier_fraction)\n",
        "print(f'Fraud Cases: {len(data[data['Class'] == 1])}')\n",
        "print(f'Valid Transactions: {len(data[data['Class'] == 0])}')"
      ],
      "metadata": {
        "id": "_mb-Mc1KCbPN"
      },
      "execution_count": null,
      "outputs": []
    },
    {
      "cell_type": "code",
      "source": [
        "print('Fraudulent transaction details')\n",
        "fraud.Amount.describe()"
      ],
      "metadata": {
        "id": "iWRO-qjHCjxX"
      },
      "execution_count": null,
      "outputs": []
    },
    {
      "cell_type": "code",
      "source": [
        "print('Vali transaction details')\n",
        "valid.Amount.describe()"
      ],
      "metadata": {
        "id": "JbCYQBUoCpCN"
      },
      "execution_count": null,
      "outputs": []
    },
    {
      "cell_type": "code",
      "source": [
        "correlation = data.corr()\n",
        "fig = plt.figure(figsize = (12, 9))\n",
        "sns.heatmap(correlation, vmax = .8, square = True)\n",
        "plt.show()"
      ],
      "metadata": {
        "id": "fP8bn7HQCw8u"
      },
      "execution_count": null,
      "outputs": []
    },
    {
      "cell_type": "code",
      "source": [
        "X = data.drop(['Class'], axis = 1)\n",
        "Y = data['Class']\n",
        "print(X.shape)\n",
        "print(Y.shape)\n"
      ],
      "metadata": {
        "id": "e5woAg0QC44R"
      },
      "execution_count": null,
      "outputs": []
    },
    {
      "cell_type": "code",
      "source": [
        "xData = X.values\n",
        "yData = Y.values"
      ],
      "metadata": {
        "id": "H2eTgsNdC92n"
      },
      "execution_count": null,
      "outputs": []
    },
    {
      "cell_type": "code",
      "source": [
        "x_train, x_test, y_train, y_test = train_test_split(\n",
        "        xData, yData, test_size = 0.2, random_state = 42)\n",
        "forest = RandomForestClassifier()\n",
        "forest.fit(xTrain, yTrain)"
      ],
      "metadata": {
        "id": "ZE1m0z-LDEDC"
      },
      "execution_count": null,
      "outputs": []
    },
    {
      "cell_type": "code",
      "source": [
        "y_pred = forest.predict(x_test)"
      ],
      "metadata": {
        "id": "51YaishSDM9o"
      },
      "execution_count": null,
      "outputs": []
    },
    {
      "cell_type": "code",
      "source": [
        "n_outliers = len(fraud)\n",
        "n_errors = (y_pred != y_test).sum()\n",
        "print('Random Forest classifier model details.')\n",
        "\n",
        "acc = accuracy_score(y_test, y_pred)\n",
        "print(f'The accuracy is {acc}')\n",
        "  \n",
        "prec = precision_score(y_test, y_pred)\n",
        "print(f'The precision is {prec}')\n",
        "  \n",
        "recall = recall_score(y_test, y_pred)\n",
        "print(f'The recall is {recall}')\n",
        "  \n",
        "f1 = f1_score(y_test, y_pred)\n",
        "print(f'The F1-Score is {f1}')\n",
        "  \n",
        "mcc = matthews_corrcoef(y_test, y_pred)\n",
        "print(f'The Matthews correlation coefficient is{mcc}')"
      ],
      "metadata": {
        "id": "4yJcaKpZDSgm"
      },
      "execution_count": null,
      "outputs": []
    },
    {
      "cell_type": "code",
      "source": [
        "LABELS = ['Normal', 'Fraud']\n",
        "conf_matrix = confusion_matrix(yTest, yPred)\n",
        "plt.figure(figsize =(12, 12))\n",
        "sns.heatmap(conf_matrix, xticklabels = LABELS, yticklabels = LABELS, annot = True, fmt ='d');\n",
        "plt.title('Confusion matrix')\n",
        "plt.ylabel('True class')\n",
        "plt.xlabel('Predicted class')\n",
        "plt.show()"
      ],
      "metadata": {
        "id": "Z2774bqsDkUQ"
      },
      "execution_count": null,
      "outputs": []
    }
  ]
}